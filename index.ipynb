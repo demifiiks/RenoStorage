import pandas as pd


# join transactions data
def join_transactions_data():
    # read files
    transactions_I = pd.read_csv('data/transactions_I.csv')
    transactions_II = pd.read_csv('data/transactions_II.csv')
    # joins both files and saves to csv
    transactions = pd.concat([transactions_I, transactions_II], ignore_index=True)
    transactions.to_csv('data/transactions.csv')

    # convert date to datetime type
def convert_date_datatype(transactions_df):
    transactions_df['date'] = pd.to_datetime(transactions['date'])
    return transactions_df